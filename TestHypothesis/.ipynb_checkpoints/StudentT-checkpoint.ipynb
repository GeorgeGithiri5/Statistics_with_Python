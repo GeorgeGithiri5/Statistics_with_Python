{
 "cells": [
  {
   "cell_type": "code",
   "execution_count": null,
   "metadata": {},
   "outputs": [],
   "source": [
    "from scipy.stats import ttest_ind\n",
    "data1 = [0.873,2.817,0.121,-0.945,0.55,-1.436,0.36,-1.478,-1.637,-1.869]\n",
    "data2 = [0.353,3.517,0.125,-7.545,-0.555,-1.536,3.35,-1.578,-3.537,-1.579]\n",
    "\n",
    "stat,p = ttest_ind(data1,data2)\n",
    "print('stat=%.3f,p=%.3f' % (stat,p))\n",
    "if p>0.05:\n",
    "    print('Probably the same distribution')\n",
    "else:\n",
    "    print('probably different distribution')"
   ]
  }
 ],
 "metadata": {
  "kernelspec": {
   "display_name": "Python 3",
   "language": "python",
   "name": "python3"
  },
  "language_info": {
   "codemirror_mode": {
    "name": "ipython",
    "version": 3
   },
   "file_extension": ".py",
   "mimetype": "text/x-python",
   "name": "python",
   "nbconvert_exporter": "python",
   "pygments_lexer": "ipython3",
   "version": "3.6.10"
  }
 },
 "nbformat": 4,
 "nbformat_minor": 2
}
