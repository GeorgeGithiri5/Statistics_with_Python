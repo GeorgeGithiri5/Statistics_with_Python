{
 "cells": [
  {
   "cell_type": "code",
   "execution_count": 1,
   "metadata": {},
   "outputs": [],
   "source": [
    "from scipy.stats import shapiro"
   ]
  },
  {
   "cell_type": "code",
   "execution_count": 2,
   "metadata": {},
   "outputs": [
    {
     "name": "stdout",
     "output_type": "stream",
     "text": [
      "stat=0.921,p=0.404\n",
      "probably gaussian\n"
     ]
    }
   ],
   "source": [
    "data = [0.873,2.817,0.121,-0.945,-0.055,-1.436,0.360,-1.637,-1.869]\n",
    "stat,p = shapiro(data)\n",
    "print('stat=%.3f,p=%.3f'%(stat,p))\n",
    "if p>0.05:\n",
    "    print('probably gaussian')\n",
    "else:\n",
    "    print('probably not gaussian')"
   ]
  },
  {
   "cell_type": "code",
   "execution_count": null,
   "metadata": {},
   "outputs": [],
   "source": []
  }
 ],
 "metadata": {
  "kernelspec": {
   "display_name": "Python 3",
   "language": "python",
   "name": "python3"
  },
  "language_info": {
   "codemirror_mode": {
    "name": "ipython",
    "version": 3
   },
   "file_extension": ".py",
   "mimetype": "text/x-python",
   "name": "python",
   "nbconvert_exporter": "python",
   "pygments_lexer": "ipython3",
   "version": "3.6.10"
  }
 },
 "nbformat": 4,
 "nbformat_minor": 2
}
