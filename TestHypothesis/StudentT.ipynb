{
 "cells": [
  {
   "cell_type": "code",
   "execution_count": 1,
   "metadata": {},
   "outputs": [
    {
     "name": "stdout",
     "output_type": "stream",
     "text": [
      "stat=0.567,p=0.578\n",
      "Probably the same distribution\n"
     ]
    }
   ],
   "source": [
    "from scipy.stats import ttest_ind\n",
    "data1 = [0.873,2.817,0.121,-0.945,0.55,-1.436,0.36,-1.478,-1.637,-1.869]\n",
    "data2 = [0.353,3.517,0.125,-7.545,-0.555,-1.536,3.35,-1.578,-3.537,-1.579]\n",
    "\n",
    "stat,p = ttest_ind(data1,data2)\n",
    "print('stat=%.3f,p=%.3f' % (stat,p))\n",
    "if p>0.05:\n",
    "    print('Probably the same distribution')\n",
    "else:\n",
    "    print('probably different distribution')"
   ]
  },
  {
   "cell_type": "code",
   "execution_count": null,
   "metadata": {},
   "outputs": [],
   "source": []
  }
 ],
 "metadata": {
  "kernelspec": {
   "display_name": "Python 3",
   "language": "python",
   "name": "python3"
  },
  "language_info": {
   "codemirror_mode": {
    "name": "ipython",
    "version": 3
   },
   "file_extension": ".py",
   "mimetype": "text/x-python",
   "name": "python",
   "nbconvert_exporter": "python",
   "pygments_lexer": "ipython3",
   "version": "3.6.10"
  }
 },
 "nbformat": 4,
 "nbformat_minor": 2
}
