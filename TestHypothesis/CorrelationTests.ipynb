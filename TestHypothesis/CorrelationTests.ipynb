{
 "cells": [
  {
   "cell_type": "code",
   "execution_count": 1,
   "metadata": {},
   "outputs": [
    {
     "name": "stdout",
     "output_type": "stream",
     "text": [
      "stat=0.681,p=0.030\n",
      "probably dependent\n"
     ]
    }
   ],
   "source": [
    "# Pearson Correlation test\n",
    "from scipy.stats import pearsonr\n",
    "data1 = [0.873,2.817,0.121,-0.945,0.55,-1.436,0.36,-1.478,-1.637,-1.869]\n",
    "data2 = [0.353,3.517,0.125,-7.545,-0.555,-1.536,3.35,-1.578,-3.537,-1.579]\n",
    "stat,p = pearsonr(data1,data2)\n",
    "print('stat=%.3f,p=%.3f' %(stat,p))\n",
    "if p>0.05:\n",
    "    print('probably independent')\n",
    "else:\n",
    "    print('probably dependent')"
   ]
  },
  {
   "cell_type": "code",
   "execution_count": 9,
   "metadata": {},
   "outputs": [
    {
     "name": "stdout",
     "output_type": "stream",
     "text": [
      "stat=0.997,p=0.607\n",
      "Probably independent\n"
     ]
    }
   ],
   "source": [
    "# Chi-squared Test\n",
    "from scipy.stats import chi2_contingency\n",
    "table = [[10,20,30],[18,25,34]]\n",
    "stat,p,dof,expected = chi2_contingency(table)\n",
    "\n",
    "print('stat=%.3f,p=%.3f' % (stat,p))\n",
    "if p>0.05:\n",
    "    print('Probably independent')\n",
    "else:\n",
    "    print('Probably dependent')"
   ]
  },
  {
   "cell_type": "code",
   "execution_count": null,
   "metadata": {},
   "outputs": [],
   "source": []
  }
 ],
 "metadata": {
  "kernelspec": {
   "display_name": "Python 3",
   "language": "python",
   "name": "python3"
  },
  "language_info": {
   "codemirror_mode": {
    "name": "ipython",
    "version": 3
   },
   "file_extension": ".py",
   "mimetype": "text/x-python",
   "name": "python",
   "nbconvert_exporter": "python",
   "pygments_lexer": "ipython3",
   "version": "3.6.10"
  }
 },
 "nbformat": 4,
 "nbformat_minor": 2
}
